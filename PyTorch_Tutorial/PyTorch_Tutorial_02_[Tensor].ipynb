{
 "cells": [
  {
   "cell_type": "code",
   "execution_count": 9,
   "id": "191d5d12",
   "metadata": {},
   "outputs": [
    {
     "name": "stdout",
     "output_type": "stream",
     "text": [
      "1.13.1+cu117\n"
     ]
    }
   ],
   "source": [
    "import torch\n",
    "import numpy as np\n",
    "\n",
    "print(torch.__version__)"
   ]
  },
  {
   "cell_type": "markdown",
   "id": "c1f367ea",
   "metadata": {},
   "source": [
    "# 텐서(Tensor)\n",
    "\n",
    "- 배열(array)와 행렬(matrix)와 매우 유사한 자료 구조이며 PyTorch에서는 텐서를 사용하여 모델의 입출력, 모델의 매개변수를 인코드 한다.\n",
    "    \n",
    "    \n",
    "- 텐서는 Numpy의 ndarray와 유사하지만 차이점은 GPU를 통해 하드웨어 가속이 가능하다.\n",
    "- 또한 Numpy array와 메모리를 공유할 수 있다."
   ]
  },
  {
   "cell_type": "markdown",
   "id": "8a41979e",
   "metadata": {},
   "source": [
    "## 텐서 초기화"
   ]
  },
  {
   "cell_type": "markdown",
   "id": "24d08c50",
   "metadata": {},
   "source": [
    "### 데이터로부터 직접 생성하기"
   ]
  },
  {
   "cell_type": "code",
   "execution_count": 8,
   "id": "760ff6e2",
   "metadata": {},
   "outputs": [
    {
     "name": "stdout",
     "output_type": "stream",
     "text": [
      "tensor([[1, 2],\n",
      "        [3, 4]])\n",
      "<built-in method type of Tensor object at 0x7fb47c604a40>\n",
      "torch.int64\n"
     ]
    }
   ],
   "source": [
    "data = [[1,2], [3,4]]\n",
    "\n",
    "x_data = torch.tensor(data)\n",
    "\n",
    "print(x_data)\n",
    "print(x_data.type)\n",
    "print(x_data.dtype)"
   ]
  },
  {
   "cell_type": "markdown",
   "id": "9ed82d7d",
   "metadata": {},
   "source": [
    "### NumPy 배열로부터 생성하기"
   ]
  },
  {
   "cell_type": "code",
   "execution_count": 11,
   "id": "dacfde97",
   "metadata": {},
   "outputs": [
    {
     "name": "stdout",
     "output_type": "stream",
     "text": [
      "tensor([[1, 2],\n",
      "        [3, 4]])\n",
      "<built-in method type of Tensor object at 0x7fb47c5ac720>\n",
      "torch.int64\n"
     ]
    }
   ],
   "source": [
    "np_array = np.array(data)\n",
    "x_np = torch.from_numpy(np_array)\n",
    "\n",
    "print(x_np)\n",
    "print(x_np.type)\n",
    "print(x_np.dtype)"
   ]
  },
  {
   "cell_type": "markdown",
   "id": "b75b448c",
   "metadata": {},
   "source": [
    "### 다른 텐서로부터 생성하기"
   ]
  },
  {
   "cell_type": "markdown",
   "id": "75465158",
   "metadata": {},
   "source": [
    "- 명시적으로 재정의 하지 않는다면 인자로 주어진 텐서의 dtype, shape를 유지한다."
   ]
  },
  {
   "cell_type": "code",
   "execution_count": 18,
   "id": "57102315",
   "metadata": {},
   "outputs": [
    {
     "name": "stdout",
     "output_type": "stream",
     "text": [
      "Ones Tensor: \n",
      " tensor([[1, 1],\n",
      "        [1, 1]])\n",
      "\n",
      "Random Tensor: \n",
      " tensor([[0.4512, 0.3598],\n",
      "        [0.3679, 0.5155]]) \n",
      "\n",
      "Random Tensor의 dtype 변경 history:\n",
      " torch.int64 -> torch.float32\n"
     ]
    }
   ],
   "source": [
    "x_ones = torch.ones_like(x_data) # 속성을 유지\n",
    "print(f'Ones Tensor: \\n {x_ones}\\n')\n",
    "# 유지했기에 shape와 dtype이 유지된다.\n",
    "\n",
    "x_rand = torch.rand_like(x_data, dtype=torch.float) # dtype을 float으로 변경한다.\n",
    "print(f'Random Tensor: \\n {x_rand} \\n')\n",
    "print(f'Random Tensor의 dtype 변경 history:\\n {x_data.dtype} -> {x_rand.dtype}')\n",
    "# dtype을 명시했기에 int64였던 dtype이 float32로 변경되었다."
   ]
  },
  {
   "cell_type": "markdown",
   "id": "ff63300f",
   "metadata": {},
   "source": [
    "### 무작위 또는 상수 값을 사용하기\n",
    "- `shape`은 텐서의 차원을 나타내는 `tuple`로 출력 텐서의 차원을 결정한다."
   ]
  },
  {
   "cell_type": "code",
   "execution_count": 21,
   "id": "c799f17b",
   "metadata": {},
   "outputs": [
    {
     "name": "stdout",
     "output_type": "stream",
     "text": [
      "Random Tensor: \n",
      " tensor([[0.2973, 0.7199, 0.6453],\n",
      "        [0.1614, 0.2390, 0.0904]]) \n",
      "\n",
      "Ones Tensor: \n",
      " tensor([[1., 1., 1.],\n",
      "        [1., 1., 1.]]) \n",
      "\n",
      "Zeros Tensor: \n",
      " tensor([[0., 0., 0.],\n",
      "        [0., 0., 0.]])\n"
     ]
    }
   ],
   "source": [
    "shape = (2,3)\n",
    "rand_tensor = torch.rand(shape)\n",
    "ones_tensor = torch.ones(shape)\n",
    "zeros_tensor = torch.zeros(shape)\n",
    "\n",
    "print(f\"Random Tensor: \\n {rand_tensor} \\n\")\n",
    "print(f\"Ones Tensor: \\n {ones_tensor} \\n\")\n",
    "print(f\"Zeros Tensor: \\n {zeros_tensor}\")"
   ]
  },
  {
   "cell_type": "markdown",
   "id": "6604c5bc",
   "metadata": {},
   "source": [
    "## 텐서의 속성(Attribute)\n",
    "- 텐서의 속성은 텐서의 `Shape`, `Dtype` 및 어느 장치에 저장되는 지를 나타낸다."
   ]
  },
  {
   "cell_type": "code",
   "execution_count": 24,
   "id": "bd4636ac",
   "metadata": {},
   "outputs": [
    {
     "name": "stdout",
     "output_type": "stream",
     "text": [
      "텐서의 형태: torch.Size([3, 4])\n",
      "텐서의 데이터 타입: torch.float32\n",
      "사용하고 있는 디바이스: cpu\n"
     ]
    }
   ],
   "source": [
    "tensor = torch.rand(3,4)\n",
    "\n",
    "print(f\"텐서의 형태: {tensor.shape}\")\n",
    "print(f\"텐서의 데이터 타입: {tensor.dtype}\")\n",
    "print(f\"사용하고 있는 디바이스: {tensor.device}\")"
   ]
  },
  {
   "cell_type": "markdown",
   "id": "34025f23",
   "metadata": {},
   "source": [
    "## 텐서 연산(Operation)\n",
    "\n",
    "- `전치(Transposing)`, `인덱싱(Indexing)`, `슬라이싱(Slicing)`, `수학 계산`, `선형 대수`, `임의 샘플링` 등 100가지 이상의 텐서 연산이 있다.\n",
    "    \n",
    "- 각 연산들은 GPU 에서 실행이 가능하다.\n",
    "    \n",
    "- 설정하지 않는다면 기본적으로 CPU로 생성된다. `.to` 메서드를 이용하여 GPU의 가용성을 확인한 뒤 GPU로 명시적 이동이 가능하다."
   ]
  },
  {
   "cell_type": "code",
   "execution_count": 25,
   "id": "aa2ccdac",
   "metadata": {},
   "outputs": [],
   "source": [
    "# GPU가 존재하면 텐서를 이동합니다\n",
    "if torch.cuda.is_available():\n",
    "    tensor = tensor.to(\"cuda\")"
   ]
  },
  {
   "cell_type": "code",
   "execution_count": 27,
   "id": "11a3f43a",
   "metadata": {},
   "outputs": [
    {
     "name": "stdout",
     "output_type": "stream",
     "text": [
      "First row: tensor([1., 1., 1., 1.])\n",
      "First column: tensor([1., 1., 1., 1.])\n",
      "Last column: tensor([1., 1., 1., 1.])\n",
      "tensor([[1., 0., 1., 1.],\n",
      "        [1., 0., 1., 1.],\n",
      "        [1., 0., 1., 1.],\n",
      "        [1., 0., 1., 1.]])\n"
     ]
    }
   ],
   "source": [
    "tensor = torch.ones(4, 4)\n",
    "print(f\"First row: {tensor[0]}\")\n",
    "print(f\"First column: {tensor[:, 0]}\")\n",
    "print(f\"Last column: {tensor[..., -1]}\")\n",
    "tensor[:,1] = 0\n",
    "print(tensor)"
   ]
  },
  {
   "cell_type": "markdown",
   "id": "cac4479c",
   "metadata": {},
   "source": [
    "### 텐서 합치기\n",
    "- `torch.cat` 을 사용하여 텐서를 연결 할 수 있다.\n",
    "- 이와 미묘하게 다른 텐서 결합 연산인 `torch.stack`도 있다."
   ]
  },
  {
   "cell_type": "code",
   "execution_count": 36,
   "id": "e732b82d",
   "metadata": {},
   "outputs": [
    {
     "name": "stdout",
     "output_type": "stream",
     "text": [
      "tensor([[1., 0., 1., 1.],\n",
      "        [1., 0., 1., 1.],\n",
      "        [1., 0., 1., 1.],\n",
      "        [1., 0., 1., 1.],\n",
      "        [1., 0., 1., 1.],\n",
      "        [1., 0., 1., 1.],\n",
      "        [1., 0., 1., 1.],\n",
      "        [1., 0., 1., 1.],\n",
      "        [1., 0., 1., 1.],\n",
      "        [1., 0., 1., 1.],\n",
      "        [1., 0., 1., 1.],\n",
      "        [1., 0., 1., 1.]])\n",
      "\n",
      "tensor([[1., 0., 1., 1., 1., 0., 1., 1., 1., 0., 1., 1.],\n",
      "        [1., 0., 1., 1., 1., 0., 1., 1., 1., 0., 1., 1.],\n",
      "        [1., 0., 1., 1., 1., 0., 1., 1., 1., 0., 1., 1.],\n",
      "        [1., 0., 1., 1., 1., 0., 1., 1., 1., 0., 1., 1.]])\n"
     ]
    }
   ],
   "source": [
    "t1 = torch.cat([tensor, tensor, tensor], dim=0)\n",
    "t2 = torch.cat([tensor, tensor, tensor], dim=1)\n",
    "print(t1)\n",
    "print()\n",
    "print(t2)"
   ]
  },
  {
   "cell_type": "code",
   "execution_count": 39,
   "id": "2c210ae2",
   "metadata": {},
   "outputs": [
    {
     "name": "stdout",
     "output_type": "stream",
     "text": [
      "tensor([[[1., 0., 1., 1.],\n",
      "         [1., 0., 1., 1.],\n",
      "         [1., 0., 1., 1.],\n",
      "         [1., 0., 1., 1.]],\n",
      "\n",
      "        [[1., 0., 1., 1.],\n",
      "         [1., 0., 1., 1.],\n",
      "         [1., 0., 1., 1.],\n",
      "         [1., 0., 1., 1.]],\n",
      "\n",
      "        [[1., 0., 1., 1.],\n",
      "         [1., 0., 1., 1.],\n",
      "         [1., 0., 1., 1.],\n",
      "         [1., 0., 1., 1.]]])\n",
      "\n",
      "tensor([[[1., 0., 1., 1.],\n",
      "         [1., 0., 1., 1.],\n",
      "         [1., 0., 1., 1.]],\n",
      "\n",
      "        [[1., 0., 1., 1.],\n",
      "         [1., 0., 1., 1.],\n",
      "         [1., 0., 1., 1.]],\n",
      "\n",
      "        [[1., 0., 1., 1.],\n",
      "         [1., 0., 1., 1.],\n",
      "         [1., 0., 1., 1.]],\n",
      "\n",
      "        [[1., 0., 1., 1.],\n",
      "         [1., 0., 1., 1.],\n",
      "         [1., 0., 1., 1.]]])\n"
     ]
    }
   ],
   "source": [
    "t1 = torch.stack([tensor, tensor, tensor], dim=0)\n",
    "t2 = torch.stack([tensor, tensor, tensor], dim=1)\n",
    "\n",
    "print(t1)\n",
    "print()\n",
    "print(t2)"
   ]
  },
  {
   "cell_type": "markdown",
   "id": "64613e2a",
   "metadata": {},
   "source": [
    "### 산술 연산"
   ]
  },
  {
   "cell_type": "code",
   "execution_count": 40,
   "id": "4964254a",
   "metadata": {},
   "outputs": [
    {
     "data": {
      "text/plain": [
       "tensor([[1., 0., 1., 1.],\n",
       "        [1., 0., 1., 1.],\n",
       "        [1., 0., 1., 1.],\n",
       "        [1., 0., 1., 1.]])"
      ]
     },
     "execution_count": 40,
     "metadata": {},
     "output_type": "execute_result"
    }
   ],
   "source": [
    "# 두 텐서 간의 행렬 곱(matrix multiplication)을 계산합니다. y1, y2, y3은 모두 같은 값을 갖습니다.\n",
    "y1 = tensor @ tensor.T\n",
    "y2 = tensor.matmul(tensor.T)\n",
    "\n",
    "y3 = torch.rand_like(y1)\n",
    "torch.matmul(tensor, tensor.T, out=y3)\n",
    "\n",
    "\n",
    "# 요소별 곱(element-wise product)을 계산합니다. z1, z2, z3는 모두 같은 값을 갖습니다.\n",
    "z1 = tensor * tensor\n",
    "z2 = tensor.mul(tensor)\n",
    "\n",
    "z3 = torch.rand_like(tensor)\n",
    "torch.mul(tensor, tensor, out=z3)"
   ]
  },
  {
   "cell_type": "markdown",
   "id": "d87070e3",
   "metadata": {},
   "source": [
    "### 단일-요소(single-element) 텐서 \n",
    "- 텐서의 모든 값을 하나로 집계(aggregate)하여 요소가 하나인 텐서의 경우, `item()` 을 사용하여 `Python 숫자 값으로 변환`할 수 있습니다:"
   ]
  },
  {
   "cell_type": "code",
   "execution_count": 42,
   "id": "d356abb6",
   "metadata": {},
   "outputs": [
    {
     "name": "stdout",
     "output_type": "stream",
     "text": [
      "12.0 \n",
      " <class 'float'>\n"
     ]
    }
   ],
   "source": [
    "agg = tensor.sum() # PyTorch 텐서 형태\n",
    "agg_item = agg.item() # Python float 형태\n",
    "print(agg_item, '\\n', type(agg_item))"
   ]
  },
  {
   "cell_type": "markdown",
   "id": "58834168",
   "metadata": {},
   "source": [
    "### 바꾸기 연산 (inplace)\n",
    "- `_`라는 `접미사` 를 가지며 inplace 연산을 진행한다."
   ]
  },
  {
   "cell_type": "code",
   "execution_count": 46,
   "id": "07651f1a",
   "metadata": {},
   "outputs": [
    {
     "name": "stdout",
     "output_type": "stream",
     "text": [
      "tensor([[1., 0., 1., 1.],\n",
      "        [1., 0., 1., 1.],\n",
      "        [1., 0., 1., 1.],\n",
      "        [1., 0., 1., 1.]])\n",
      "\n",
      "tensor([[6., 5., 6., 6.],\n",
      "        [6., 5., 6., 6.],\n",
      "        [6., 5., 6., 6.],\n",
      "        [6., 5., 6., 6.]])\n"
     ]
    }
   ],
   "source": [
    "print(f'{tensor}\\n')\n",
    "tensor.add_(5)\n",
    "print(tensor) # inplace 연산으로 지정해주지 않아도 연산이 적용되었다."
   ]
  },
  {
   "cell_type": "markdown",
   "id": "a7cfd5bd",
   "metadata": {},
   "source": [
    "## NumPy 변환\n",
    "- CPU 상의 텐서와 NumPy는 메모리 공간을 공유하기에 하나를 변경하면 다른 하나도 변경된다."
   ]
  },
  {
   "cell_type": "code",
   "execution_count": 48,
   "id": "00c71316",
   "metadata": {},
   "outputs": [
    {
     "name": "stdout",
     "output_type": "stream",
     "text": [
      "tensor: tensor([1., 1., 1., 1., 1.])\n",
      "numpy: [1. 1. 1. 1. 1.]\n"
     ]
    }
   ],
   "source": [
    "t = torch.ones(5)\n",
    "print(f'tensor: {t}')\n",
    "n = t.numpy()\n",
    "print(f'numpy: {n}')"
   ]
  },
  {
   "cell_type": "code",
   "execution_count": 49,
   "id": "5f720ce8",
   "metadata": {},
   "outputs": [
    {
     "name": "stdout",
     "output_type": "stream",
     "text": [
      "tensor: tensor([2., 2., 2., 2., 2.])\n",
      "numpy: [2. 2. 2. 2. 2.]\n"
     ]
    }
   ],
   "source": [
    "t.add_(1) # inplace 연산을 적용하여 모두 변한것을 볼 수 있다.\n",
    "print(f'tensor: {t}')\n",
    "print(f'numpy: {n}')"
   ]
  },
  {
   "cell_type": "code",
   "execution_count": 50,
   "id": "132d7ba2",
   "metadata": {},
   "outputs": [],
   "source": [
    "n = np.ones(5)\n",
    "t = torch.from_numpy(n)"
   ]
  },
  {
   "cell_type": "code",
   "execution_count": 56,
   "id": "d8fa9578",
   "metadata": {},
   "outputs": [
    {
     "name": "stdout",
     "output_type": "stream",
     "text": [
      "tensor: tensor([2., 2., 2., 2., 2.], dtype=torch.float64)\n",
      "numpy: [2. 2. 2. 2. 2.]\n"
     ]
    }
   ],
   "source": [
    "np.add(n, 1, out=n)\n",
    "print(f'tensor: {t}')\n",
    "print(f'numpy: {n}')"
   ]
  },
  {
   "cell_type": "code",
   "execution_count": 57,
   "id": "eecfb0a4",
   "metadata": {},
   "outputs": [
    {
     "name": "stdout",
     "output_type": "stream",
     "text": [
      "tensor: tensor([5., 5., 5., 5., 5.], dtype=torch.float64)\n",
      "numpy: [5. 5. 5. 5. 5.]\n"
     ]
    }
   ],
   "source": [
    "np.add(n, 3, out=n)\n",
    "print(f'tensor: {t}')\n",
    "print(f'numpy: {n}')"
   ]
  },
  {
   "cell_type": "code",
   "execution_count": 58,
   "id": "edd0c17d",
   "metadata": {},
   "outputs": [
    {
     "name": "stdout",
     "output_type": "stream",
     "text": [
      "tensor: tensor([1., 1., 1., 1., 1.], dtype=torch.float64)\n",
      "numpy: [1. 1. 1. 1. 1.]\n"
     ]
    }
   ],
   "source": [
    "np.add(n, -4, out=n)\n",
    "print(f'tensor: {t}')\n",
    "print(f'numpy: {n}')"
   ]
  }
 ],
 "metadata": {
  "kernelspec": {
   "display_name": "Python 3 (ipykernel)",
   "language": "python",
   "name": "python3"
  },
  "language_info": {
   "codemirror_mode": {
    "name": "ipython",
    "version": 3
   },
   "file_extension": ".py",
   "mimetype": "text/x-python",
   "name": "python",
   "nbconvert_exporter": "python",
   "pygments_lexer": "ipython3",
   "version": "3.9.7"
  }
 },
 "nbformat": 4,
 "nbformat_minor": 5
}
